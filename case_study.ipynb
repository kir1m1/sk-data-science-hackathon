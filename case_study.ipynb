{
 "cells": [
  {
   "cell_type": "markdown",
   "id": "5f96754b-4c6e-4361-9b3a-bd173aab50ce",
   "metadata": {},
   "source": [
    "#### Import libs & load data"
   ]
  },
  {
   "cell_type": "code",
   "execution_count": 48,
   "id": "364c2cc3-cc60-4293-86f3-54437133ee94",
   "metadata": {},
   "outputs": [
    {
     "data": {
      "text/html": [
       "<div>\n",
       "<style scoped>\n",
       "    .dataframe tbody tr th:only-of-type {\n",
       "        vertical-align: middle;\n",
       "    }\n",
       "\n",
       "    .dataframe tbody tr th {\n",
       "        vertical-align: top;\n",
       "    }\n",
       "\n",
       "    .dataframe thead th {\n",
       "        text-align: right;\n",
       "    }\n",
       "</style>\n",
       "<table border=\"1\" class=\"dataframe\">\n",
       "  <thead>\n",
       "    <tr style=\"text-align: right;\">\n",
       "      <th></th>\n",
       "      <th>feature_1</th>\n",
       "      <th>feature_2</th>\n",
       "      <th>feature_3</th>\n",
       "      <th>feature_4</th>\n",
       "      <th>feature_5</th>\n",
       "      <th>feature_6</th>\n",
       "      <th>feature_7</th>\n",
       "      <th>feature_8</th>\n",
       "      <th>feature_9</th>\n",
       "      <th>feature_10</th>\n",
       "      <th>feature_11</th>\n",
       "      <th>feature_12</th>\n",
       "      <th>feature_13</th>\n",
       "      <th>feature_14</th>\n",
       "      <th>feature_15</th>\n",
       "      <th>target</th>\n",
       "      <th>cat_feature_1</th>\n",
       "      <th>cat_feature_2</th>\n",
       "    </tr>\n",
       "  </thead>\n",
       "  <tbody>\n",
       "    <tr>\n",
       "      <th>0</th>\n",
       "      <td>28.767169</td>\n",
       "      <td>161.966498</td>\n",
       "      <td>81.872549</td>\n",
       "      <td>99.835205</td>\n",
       "      <td>269.739988</td>\n",
       "      <td>203.647127</td>\n",
       "      <td>249.435960</td>\n",
       "      <td>117.578044</td>\n",
       "      <td>127.856154</td>\n",
       "      <td>111.061091</td>\n",
       "      <td>126.024153</td>\n",
       "      <td>177.980983</td>\n",
       "      <td>152.021918</td>\n",
       "      <td>319.135333</td>\n",
       "      <td>140.016792</td>\n",
       "      <td>112.977020</td>\n",
       "      <td>High</td>\n",
       "      <td>Category_A</td>\n",
       "    </tr>\n",
       "    <tr>\n",
       "      <th>1</th>\n",
       "      <td>218.938143</td>\n",
       "      <td>119.791942</td>\n",
       "      <td>167.343711</td>\n",
       "      <td>193.325205</td>\n",
       "      <td>-79.015534</td>\n",
       "      <td>53.199300</td>\n",
       "      <td>146.831591</td>\n",
       "      <td>122.634255</td>\n",
       "      <td>73.221506</td>\n",
       "      <td>79.423254</td>\n",
       "      <td>110.618714</td>\n",
       "      <td>-23.065378</td>\n",
       "      <td>133.769639</td>\n",
       "      <td>273.784216</td>\n",
       "      <td>60.854829</td>\n",
       "      <td>105.844625</td>\n",
       "      <td>Low</td>\n",
       "      <td>Category_A</td>\n",
       "    </tr>\n",
       "    <tr>\n",
       "      <th>2</th>\n",
       "      <td>73.635323</td>\n",
       "      <td>221.318585</td>\n",
       "      <td>99.913021</td>\n",
       "      <td>-22.305286</td>\n",
       "      <td>228.404987</td>\n",
       "      <td>111.664161</td>\n",
       "      <td>257.811522</td>\n",
       "      <td>59.378286</td>\n",
       "      <td>61.426489</td>\n",
       "      <td>86.798618</td>\n",
       "      <td>45.785137</td>\n",
       "      <td>78.697077</td>\n",
       "      <td>196.370792</td>\n",
       "      <td>-2.577077</td>\n",
       "      <td>-22.645914</td>\n",
       "      <td>93.708970</td>\n",
       "      <td>Low</td>\n",
       "      <td>Category_B</td>\n",
       "    </tr>\n",
       "    <tr>\n",
       "      <th>3</th>\n",
       "      <td>254.599403</td>\n",
       "      <td>9.245377</td>\n",
       "      <td>151.656239</td>\n",
       "      <td>93.377091</td>\n",
       "      <td>-31.668459</td>\n",
       "      <td>92.511416</td>\n",
       "      <td>198.598885</td>\n",
       "      <td>66.328654</td>\n",
       "      <td>232.164797</td>\n",
       "      <td>215.983485</td>\n",
       "      <td>192.334588</td>\n",
       "      <td>266.697438</td>\n",
       "      <td>147.023177</td>\n",
       "      <td>170.750747</td>\n",
       "      <td>105.240839</td>\n",
       "      <td>115.455498</td>\n",
       "      <td>Low</td>\n",
       "      <td>Category_A</td>\n",
       "    </tr>\n",
       "    <tr>\n",
       "      <th>4</th>\n",
       "      <td>290.040861</td>\n",
       "      <td>161.374547</td>\n",
       "      <td>70.177088</td>\n",
       "      <td>74.350879</td>\n",
       "      <td>230.188671</td>\n",
       "      <td>230.777534</td>\n",
       "      <td>251.258058</td>\n",
       "      <td>183.337692</td>\n",
       "      <td>240.107252</td>\n",
       "      <td>278.940438</td>\n",
       "      <td>183.484400</td>\n",
       "      <td>137.560854</td>\n",
       "      <td>169.524114</td>\n",
       "      <td>172.233807</td>\n",
       "      <td>0.996204</td>\n",
       "      <td>187.083308</td>\n",
       "      <td>High</td>\n",
       "      <td>Category_C</td>\n",
       "    </tr>\n",
       "    <tr>\n",
       "      <th>...</th>\n",
       "      <td>...</td>\n",
       "      <td>...</td>\n",
       "      <td>...</td>\n",
       "      <td>...</td>\n",
       "      <td>...</td>\n",
       "      <td>...</td>\n",
       "      <td>...</td>\n",
       "      <td>...</td>\n",
       "      <td>...</td>\n",
       "      <td>...</td>\n",
       "      <td>...</td>\n",
       "      <td>...</td>\n",
       "      <td>...</td>\n",
       "      <td>...</td>\n",
       "      <td>...</td>\n",
       "      <td>...</td>\n",
       "      <td>...</td>\n",
       "      <td>...</td>\n",
       "    </tr>\n",
       "    <tr>\n",
       "      <th>99995</th>\n",
       "      <td>5.137600</td>\n",
       "      <td>223.650110</td>\n",
       "      <td>262.706014</td>\n",
       "      <td>34.115822</td>\n",
       "      <td>56.149873</td>\n",
       "      <td>203.199104</td>\n",
       "      <td>23.526109</td>\n",
       "      <td>10.265990</td>\n",
       "      <td>125.915993</td>\n",
       "      <td>174.469443</td>\n",
       "      <td>206.620790</td>\n",
       "      <td>8.447183</td>\n",
       "      <td>8.799652</td>\n",
       "      <td>62.261204</td>\n",
       "      <td>199.040973</td>\n",
       "      <td>111.933168</td>\n",
       "      <td>Low</td>\n",
       "      <td>Category_A</td>\n",
       "    </tr>\n",
       "    <tr>\n",
       "      <th>99996</th>\n",
       "      <td>-24.785508</td>\n",
       "      <td>54.086621</td>\n",
       "      <td>253.093477</td>\n",
       "      <td>140.302047</td>\n",
       "      <td>66.938113</td>\n",
       "      <td>113.096096</td>\n",
       "      <td>79.655440</td>\n",
       "      <td>112.177999</td>\n",
       "      <td>35.849802</td>\n",
       "      <td>187.404075</td>\n",
       "      <td>-29.669458</td>\n",
       "      <td>-29.467787</td>\n",
       "      <td>151.939305</td>\n",
       "      <td>111.344186</td>\n",
       "      <td>-19.787619</td>\n",
       "      <td>98.208574</td>\n",
       "      <td>Low</td>\n",
       "      <td>Category_A</td>\n",
       "    </tr>\n",
       "    <tr>\n",
       "      <th>99997</th>\n",
       "      <td>95.691137</td>\n",
       "      <td>-60.539674</td>\n",
       "      <td>182.792261</td>\n",
       "      <td>124.955195</td>\n",
       "      <td>129.011832</td>\n",
       "      <td>73.903342</td>\n",
       "      <td>72.483219</td>\n",
       "      <td>72.410532</td>\n",
       "      <td>223.346991</td>\n",
       "      <td>118.818122</td>\n",
       "      <td>-40.974059</td>\n",
       "      <td>5.113943</td>\n",
       "      <td>63.857116</td>\n",
       "      <td>142.451584</td>\n",
       "      <td>230.030930</td>\n",
       "      <td>102.714185</td>\n",
       "      <td>High</td>\n",
       "      <td>Category_A</td>\n",
       "    </tr>\n",
       "    <tr>\n",
       "      <th>99998</th>\n",
       "      <td>-15.557983</td>\n",
       "      <td>212.114566</td>\n",
       "      <td>-33.215685</td>\n",
       "      <td>108.988587</td>\n",
       "      <td>211.905884</td>\n",
       "      <td>291.579619</td>\n",
       "      <td>353.093819</td>\n",
       "      <td>149.118057</td>\n",
       "      <td>-23.918542</td>\n",
       "      <td>19.985540</td>\n",
       "      <td>-129.389272</td>\n",
       "      <td>154.531081</td>\n",
       "      <td>175.965241</td>\n",
       "      <td>108.808665</td>\n",
       "      <td>272.826414</td>\n",
       "      <td>91.244749</td>\n",
       "      <td>Low</td>\n",
       "      <td>Category_A</td>\n",
       "    </tr>\n",
       "    <tr>\n",
       "      <th>99999</th>\n",
       "      <td>228.476620</td>\n",
       "      <td>121.324249</td>\n",
       "      <td>328.229965</td>\n",
       "      <td>257.140130</td>\n",
       "      <td>150.158028</td>\n",
       "      <td>163.996202</td>\n",
       "      <td>181.255538</td>\n",
       "      <td>242.381308</td>\n",
       "      <td>297.442216</td>\n",
       "      <td>271.180491</td>\n",
       "      <td>149.623438</td>\n",
       "      <td>351.293947</td>\n",
       "      <td>275.057575</td>\n",
       "      <td>251.957609</td>\n",
       "      <td>335.923949</td>\n",
       "      <td>218.138541</td>\n",
       "      <td>Low</td>\n",
       "      <td>Category_C</td>\n",
       "    </tr>\n",
       "  </tbody>\n",
       "</table>\n",
       "<p>100000 rows × 18 columns</p>\n",
       "</div>"
      ],
      "text/plain": [
       "        feature_1   feature_2   feature_3   feature_4   feature_5   feature_6  \\\n",
       "0       28.767169  161.966498   81.872549   99.835205  269.739988  203.647127   \n",
       "1      218.938143  119.791942  167.343711  193.325205  -79.015534   53.199300   \n",
       "2       73.635323  221.318585   99.913021  -22.305286  228.404987  111.664161   \n",
       "3      254.599403    9.245377  151.656239   93.377091  -31.668459   92.511416   \n",
       "4      290.040861  161.374547   70.177088   74.350879  230.188671  230.777534   \n",
       "...           ...         ...         ...         ...         ...         ...   \n",
       "99995    5.137600  223.650110  262.706014   34.115822   56.149873  203.199104   \n",
       "99996  -24.785508   54.086621  253.093477  140.302047   66.938113  113.096096   \n",
       "99997   95.691137  -60.539674  182.792261  124.955195  129.011832   73.903342   \n",
       "99998  -15.557983  212.114566  -33.215685  108.988587  211.905884  291.579619   \n",
       "99999  228.476620  121.324249  328.229965  257.140130  150.158028  163.996202   \n",
       "\n",
       "        feature_7   feature_8   feature_9  feature_10  feature_11  feature_12  \\\n",
       "0      249.435960  117.578044  127.856154  111.061091  126.024153  177.980983   \n",
       "1      146.831591  122.634255   73.221506   79.423254  110.618714  -23.065378   \n",
       "2      257.811522   59.378286   61.426489   86.798618   45.785137   78.697077   \n",
       "3      198.598885   66.328654  232.164797  215.983485  192.334588  266.697438   \n",
       "4      251.258058  183.337692  240.107252  278.940438  183.484400  137.560854   \n",
       "...           ...         ...         ...         ...         ...         ...   \n",
       "99995   23.526109   10.265990  125.915993  174.469443  206.620790    8.447183   \n",
       "99996   79.655440  112.177999   35.849802  187.404075  -29.669458  -29.467787   \n",
       "99997   72.483219   72.410532  223.346991  118.818122  -40.974059    5.113943   \n",
       "99998  353.093819  149.118057  -23.918542   19.985540 -129.389272  154.531081   \n",
       "99999  181.255538  242.381308  297.442216  271.180491  149.623438  351.293947   \n",
       "\n",
       "       feature_13  feature_14  feature_15      target cat_feature_1  \\\n",
       "0      152.021918  319.135333  140.016792  112.977020          High   \n",
       "1      133.769639  273.784216   60.854829  105.844625           Low   \n",
       "2      196.370792   -2.577077  -22.645914   93.708970           Low   \n",
       "3      147.023177  170.750747  105.240839  115.455498           Low   \n",
       "4      169.524114  172.233807    0.996204  187.083308          High   \n",
       "...           ...         ...         ...         ...           ...   \n",
       "99995    8.799652   62.261204  199.040973  111.933168           Low   \n",
       "99996  151.939305  111.344186  -19.787619   98.208574           Low   \n",
       "99997   63.857116  142.451584  230.030930  102.714185          High   \n",
       "99998  175.965241  108.808665  272.826414   91.244749           Low   \n",
       "99999  275.057575  251.957609  335.923949  218.138541           Low   \n",
       "\n",
       "      cat_feature_2  \n",
       "0        Category_A  \n",
       "1        Category_A  \n",
       "2        Category_B  \n",
       "3        Category_A  \n",
       "4        Category_C  \n",
       "...             ...  \n",
       "99995    Category_A  \n",
       "99996    Category_A  \n",
       "99997    Category_A  \n",
       "99998    Category_A  \n",
       "99999    Category_C  \n",
       "\n",
       "[100000 rows x 18 columns]"
      ]
     },
     "execution_count": 48,
     "metadata": {},
     "output_type": "execute_result"
    }
   ],
   "source": [
    "import pandas as pd\n",
    "import numpy as np\n",
    "import matplotlib.pyplot as plt\n",
    "\n",
    "case_study = pd.read_csv('./case_study_data.csv')\n",
    "case_study"
   ]
  },
  {
   "cell_type": "markdown",
   "id": "56afd4ef-ef90-41a8-966e-6e553dcef3bf",
   "metadata": {},
   "source": [
    "### Find the feature with the highest correlation to the target variable\n"
   ]
  },
  {
   "cell_type": "code",
   "execution_count": 257,
   "id": "fd84abda-c7b8-4667-9a8d-8b92ca4a7e6c",
   "metadata": {},
   "outputs": [
    {
     "data": {
      "image/png": "[encoded data removed]",
      "text/plain": [
       "<Figure size 640x480 with 1 Axes>"
      ]
     },
     "metadata": {},
     "output_type": "display_data"
    },
    {
     "name": "stdout",
     "output_type": "stream",
     "text": [
      "Highest correlated feature to the target variable is feature_7\n"
     ]
    }
   ],
   "source": [
    "\n",
    "# setup X, y & feature column names\n",
    "col_names_to_drop = [\"target\", \"cat_feature_1\", \"cat_feature_2\"]\n",
    "X = case_study.drop(col_names_to_drop, axis=1).values\n",
    "y = case_study['target'].values\n",
    "ft_col_names = case_study.drop(col_names_to_drop, axis=1).columns\n",
    "\n",
    "\n",
    "# use Lasso regression as this will shrink coefficients of less important features\n",
    "from sklearn.linear_model import Lasso\n",
    "correlation_model = Lasso(alpha=0.1)\n",
    "coefficients = correlation_model.fit(X,y).coef_\n",
    "\n",
    "\n",
    "plt.bar(ft_col_names, coefficients)\n",
    "plt.xticks(rotation=45)\n",
    "plt.show()\n",
    "\n",
    "# find index of the highest correlated feature\n",
    "max_index = np.argmax(np.abs(coefficients))\n",
    "print('Highest correlated feature to the target variable is {}'.format(ft_col_names[max_index]))"
   ]
  },
  {
   "cell_type": "markdown",
   "id": "7e5a400a-9385-4bf4-8087-369735dbfc77",
   "metadata": {},
   "source": [
    "### What is the category in cat_feature_2 with the highest mean for the target variable?"
   ]
  },
  {
   "cell_type": "code",
   "execution_count": 68,
   "id": "7c856ebb-4f0d-4826-b4d6-b4bc3213bcf8",
   "metadata": {},
   "outputs": [
    {
     "data": {
      "text/plain": [
       "'Category_C'"
      ]
     },
     "execution_count": 68,
     "metadata": {},
     "output_type": "execute_result"
    }
   ],
   "source": [
    "case_study.groupby('cat_feature_2')['target'].mean().idxmax()"
   ]
  },
  {
   "cell_type": "markdown",
   "id": "ff21483e-cf5e-4bfe-8eef-f96839426144",
   "metadata": {},
   "source": [
    "### What is the absolute difference of the standard deviation of the target variable for the 2 categories in cat_feature_1?"
   ]
  },
  {
   "cell_type": "code",
   "execution_count": 78,
   "id": "0eed25fb-a6d7-4599-9d89-662e0e416713",
   "metadata": {},
   "outputs": [
    {
     "data": {
      "text/plain": [
       "np.float64(0.877185200149718)"
      ]
     },
     "execution_count": 78,
     "metadata": {},
     "output_type": "execute_result"
    }
   ],
   "source": [
    "high_std = case_study.groupby('cat_feature_1')['target'].std()['High']\n",
    "low_std = case_study.groupby('cat_feature_1')['target'].std()['Low']\n",
    "np.abs(high_std - low_std)"
   ]
  },
  {
   "cell_type": "markdown",
   "id": "05fb46db-e925-4317-8574-ebb292a7b738",
   "metadata": {},
   "source": [
    "### What is the min value of feature_8 for the group category C in cat_feature_2?"
   ]
  },
  {
   "cell_type": "code",
   "execution_count": 82,
   "id": "e42cad9d-628f-46ee-8df1-197984630ce7",
   "metadata": {},
   "outputs": [
    {
     "data": {
      "text/plain": [
       "np.float64(-255.53508400442365)"
      ]
     },
     "execution_count": 82,
     "metadata": {},
     "output_type": "execute_result"
    }
   ],
   "source": [
    "case_study.groupby('cat_feature_2')['feature_8'].min()['Category_C']"
   ]
  },
  {
   "cell_type": "markdown",
   "id": "7e88339c-1d9e-42ef-a698-dabf76ac9d05",
   "metadata": {},
   "source": [
    "### What is the variance of feature_12 for the group where cat_feature_2 is Category_A and cat_feature_1 is High?"
   ]
  },
  {
   "cell_type": "code",
   "execution_count": 106,
   "id": "f2b6913f-40a6-471a-9184-e03f5a01658e",
   "metadata": {},
   "outputs": [
    {
     "data": {
      "text/html": [
       "<div>\n",
       "<style scoped>\n",
       "    .dataframe tbody tr th:only-of-type {\n",
       "        vertical-align: middle;\n",
       "    }\n",
       "\n",
       "    .dataframe tbody tr th {\n",
       "        vertical-align: top;\n",
       "    }\n",
       "\n",
       "    .dataframe thead th {\n",
       "        text-align: right;\n",
       "    }\n",
       "</style>\n",
       "<table border=\"1\" class=\"dataframe\">\n",
       "  <thead>\n",
       "    <tr style=\"text-align: right;\">\n",
       "      <th></th>\n",
       "      <th></th>\n",
       "      <th>feature_12</th>\n",
       "    </tr>\n",
       "    <tr>\n",
       "      <th>cat_feature_1</th>\n",
       "      <th>cat_feature_2</th>\n",
       "      <th></th>\n",
       "    </tr>\n",
       "  </thead>\n",
       "  <tbody>\n",
       "    <tr>\n",
       "      <th rowspan=\"3\" valign=\"top\">High</th>\n",
       "      <th>Category_A</th>\n",
       "      <td>11267.178830</td>\n",
       "    </tr>\n",
       "    <tr>\n",
       "      <th>Category_B</th>\n",
       "      <td>11163.965640</td>\n",
       "    </tr>\n",
       "    <tr>\n",
       "      <th>Category_C</th>\n",
       "      <td>10275.529924</td>\n",
       "    </tr>\n",
       "    <tr>\n",
       "      <th rowspan=\"3\" valign=\"top\">Low</th>\n",
       "      <th>Category_A</th>\n",
       "      <td>10222.853001</td>\n",
       "    </tr>\n",
       "    <tr>\n",
       "      <th>Category_B</th>\n",
       "      <td>11098.937647</td>\n",
       "    </tr>\n",
       "    <tr>\n",
       "      <th>Category_C</th>\n",
       "      <td>11101.869845</td>\n",
       "    </tr>\n",
       "  </tbody>\n",
       "</table>\n",
       "</div>"
      ],
      "text/plain": [
       "                               feature_12\n",
       "cat_feature_1 cat_feature_2              \n",
       "High          Category_A     11267.178830\n",
       "              Category_B     11163.965640\n",
       "              Category_C     10275.529924\n",
       "Low           Category_A     10222.853001\n",
       "              Category_B     11098.937647\n",
       "              Category_C     11101.869845"
      ]
     },
     "execution_count": 106,
     "metadata": {},
     "output_type": "execute_result"
    }
   ],
   "source": [
    "var_df = case_study.groupby(['cat_feature_1', 'cat_feature_2'])[['feature_12']].var()\n",
    "var_df"
   ]
  },
  {
   "cell_type": "code",
   "execution_count": 136,
   "id": "0350e651-243a-48d5-986c-d2a9625c0059",
   "metadata": {},
   "outputs": [
    {
     "data": {
      "text/plain": [
       "np.float64(11267.178830175519)"
      ]
     },
     "execution_count": 136,
     "metadata": {},
     "output_type": "execute_result"
    }
   ],
   "source": [
    "var_df.loc[('High', 'Category_A'), 'feature_12']"
   ]
  },
  {
   "cell_type": "markdown",
   "id": "a4fb3b6b-e096-445f-8ec6-ba8822a06d0c",
   "metadata": {},
   "source": [
    "### Build LinearRegression model"
   ]
  },
  {
   "cell_type": "code",
   "execution_count": 161,
   "id": "8fcfce36-d5b3-4d46-a3d2-7d8cf0ac23e7",
   "metadata": {},
   "outputs": [],
   "source": [
    "from sklearn.linear_model import LinearRegression\n",
    "from sklearn.model_selection import train_test_split\n",
    "from sklearn.metrics import root_mean_squared_error"
   ]
  },
  {
   "cell_type": "markdown",
   "id": "9879cda5-9921-4433-a4d1-5b1dede9e061",
   "metadata": {},
   "source": [
    "#### Preprocessing"
   ]
  },
  {
   "cell_type": "code",
   "execution_count": 350,
   "id": "11f10e1b-d3f4-48c1-a9bf-bc096aed4208",
   "metadata": {},
   "outputs": [],
   "source": [
    "x = case_study.drop(['target'], axis=1)\n",
    "y = case_study['target']\n",
    "\n",
    "# split train & test data\n",
    "X_train, X_test, y_train, y_test = train_test_split(x,y, test_size=0.2, random_state=42)"
   ]
  },
  {
   "cell_type": "markdown",
   "id": "84a19e7c-8cb6-4923-9775-ffbecf19c7f8",
   "metadata": {},
   "source": [
    "#### Calculate the predictions"
   ]
  },
  {
   "cell_type": "code",
   "execution_count": 351,
   "id": "b42f9e6e-5c5c-464b-84ec-29ec60650ee6",
   "metadata": {},
   "outputs": [
    {
     "name": "stdout",
     "output_type": "stream",
     "text": [
      "Predictions are \n",
      " [185.573076    90.76037979 131.18309459 ...  96.13511802 117.44276573\n",
      " 168.57756127] \n"
     ]
    }
   ],
   "source": [
    "x_features = case_study.drop(['target', 'cat_feature_1', 'cat_feature_2'], axis=1)\n",
    "y_features = case_study['target'].values\n",
    "\n",
    "X_train, X_test, y_train, y_test = train_test_split(x_features, y_features, test_size=0.2, random_state=42)\n",
    "\n",
    "lin_reg_model = LinearRegression()\n",
    "lin_reg_model.fit(X_train, y_train)\n",
    "predictions = lin_reg_model.predict(X_test)\n",
    "print('Predictions are \\n {} '.format(predictions))\n",
    "\n",
    "## TODO fix me"
   ]
  },
  {
   "cell_type": "markdown",
   "id": "5670e704-6a8b-4dad-839c-0ed12b5c4fe3",
   "metadata": {},
   "source": [
    "#### Calculate RMSE scores"
   ]
  },
  {
   "cell_type": "code",
   "execution_count": 352,
   "id": "22fc10e5-5e59-42c9-9517-8638efbd8e0b",
   "metadata": {},
   "outputs": [
    {
     "name": "stdout",
     "output_type": "stream",
     "text": [
      "RMSE score 23.08942785401233\n"
     ]
    }
   ],
   "source": [
    "rmse = root_mean_squared_error(y_test, predictions)\n",
    "print('RMSE score {}'.format(rmse))\n",
    "\n",
    "## TODO fix me"
   ]
  },
  {
   "cell_type": "markdown",
   "id": "1d03ecc0-8bc3-43ab-9580-a0171db84a39",
   "metadata": {},
   "source": [
    "#### Visualize predictions on a scatter plot"
   ]
  },
  {
   "cell_type": "code",
   "execution_count": 353,
   "id": "7dccde25-8534-46e3-a7ac-4058457e0c13",
   "metadata": {},
   "outputs": [
    {
     "data": {
      "image/png": "[encoded data removed]",
      "text/plain": [
       "<Figure size 640x480 with 1 Axes>"
      ]
     },
     "metadata": {},
     "output_type": "display_data"
    }
   ],
   "source": [
    "plt.scatter(X_train.index, y_train, color=\"blue\")\n",
    "# plt.plot(X_test.index, predictions, color=\"red\")\n",
    "plt.xlabel(\"X_train.index\")\n",
    "plt.ylabel(\"Target\")\n",
    "plt.show()"
   ]
  },
  {
   "cell_type": "markdown",
   "id": "3393934e-4331-4bd3-a15b-7dbcffa4cfe4",
   "metadata": {},
   "source": [
    "#### Scale continuous values using StandardScaler"
   ]
  },
  {
   "cell_type": "code",
   "execution_count": 357,
   "id": "de4696d3-f3d2-4c3a-a9f3-ab561ff23785",
   "metadata": {},
   "outputs": [
    {
     "data": {
      "text/plain": [
       "0        185.634744\n",
       "1         90.963159\n",
       "2        131.382083\n",
       "3        186.488881\n",
       "4        125.165736\n",
       "            ...    \n",
       "19995    102.331037\n",
       "19996    142.150588\n",
       "19997     96.176771\n",
       "19998    117.592386\n",
       "19999    168.678335\n",
       "Length: 20000, dtype: float64"
      ]
     },
     "execution_count": 357,
     "metadata": {},
     "output_type": "execute_result"
    }
   ],
   "source": [
    "from sklearn.preprocessing import StandardScaler\n",
    "scaler = StandardScaler()\n",
    "X_train = scaler.fit_transform(X_train)\n",
    "X_test = scaler.fit_transform(X_test)\n",
    "\n",
    "reg_mod = LinearRegression()\n",
    "reg_mod.fit(X_train, y_train)\n",
    "predictions = reg_mod.predict(X_test)\n",
    "pd.Series(predictions)"
   ]
  },
  {
   "cell_type": "markdown",
   "id": "5deb6054-c03e-4d39-9ca3-e9deed2d59fa",
   "metadata": {},
   "source": [
    "#### Plot predictions"
   ]
  },
  {
   "cell_type": "code",
   "execution_count": 374,
   "id": "f92197e4-f6f9-4337-b725-773ec55e20d0",
   "metadata": {},
   "outputs": [
    {
     "data": {
      "text/plain": [
       "[<matplotlib.lines.Line2D at 0x30d5ae150>]"
      ]
     },
     "execution_count": 374,
     "metadata": {},
     "output_type": "execute_result"
    },
    {
     "data": {
      "image/png": "[encoded data removed]",
      "text/plain": [
       "<Figure size 640x480 with 1 Axes>"
      ]
     },
     "metadata": {},
     "output_type": "display_data"
    }
   ],
   "source": [
    "# plt.scatter(X_test, y_test, color=\"blue\", alpha=0.1)\n",
    "# plt.plot(X_test, predictions, color=\"red\")\n",
    "s = pd.DataFrame(X_test)\n",
    "plt.scatter(s.index, y_test, color=\"blue\")\n",
    "plt.plot(s.index, predictions, color=\"red\")"
   ]
  }
 ],
 "metadata": {
  "kernelspec": {
   "display_name": "Python 3 (ipykernel)",
   "language": "python",
   "name": "python3"
  },
  "language_info": {
   "codemirror_mode": {
    "name": "ipython",
    "version": 3
   },
   "file_extension": ".py",
   "mimetype": "text/x-python",
   "name": "python",
   "nbconvert_exporter": "python",
   "pygments_lexer": "ipython3",
   "version": "3.12.1"
  }
 },
 "nbformat": 4,
 "nbformat_minor": 5
}
