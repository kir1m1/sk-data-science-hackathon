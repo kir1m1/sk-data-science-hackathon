{
 "cells": [
  {
   "cell_type": "code",
   "execution_count": 48,
   "id": "364c2cc3-cc60-4293-86f3-54437133ee94",
   "metadata": {},
   "outputs": [
    {
     "data": {
      "text/html": [
       "<div>\n",
       "<style scoped>\n",
       "    .dataframe tbody tr th:only-of-type {\n",
       "        vertical-align: middle;\n",
       "    }\n",
       "\n",
       "    .dataframe tbody tr th {\n",
       "        vertical-align: top;\n",
       "    }\n",
       "\n",
       "    .dataframe thead th {\n",
       "        text-align: right;\n",
       "    }\n",
       "</style>\n",
       "<table border=\"1\" class=\"dataframe\">\n",
       "  <thead>\n",
       "    <tr style=\"text-align: right;\">\n",
       "      <th></th>\n",
       "      <th>feature_1</th>\n",
       "      <th>feature_2</th>\n",
       "      <th>feature_3</th>\n",
       "      <th>feature_4</th>\n",
       "      <th>feature_5</th>\n",
       "      <th>feature_6</th>\n",
       "      <th>feature_7</th>\n",
       "      <th>feature_8</th>\n",
       "      <th>feature_9</th>\n",
       "      <th>feature_10</th>\n",
       "      <th>feature_11</th>\n",
       "      <th>feature_12</th>\n",
       "      <th>feature_13</th>\n",
       "      <th>feature_14</th>\n",
       "      <th>feature_15</th>\n",
       "      <th>target</th>\n",
       "      <th>cat_feature_1</th>\n",
       "      <th>cat_feature_2</th>\n",
       "    </tr>\n",
       "  </thead>\n",
       "  <tbody>\n",
       "    <tr>\n",
       "      <th>0</th>\n",
       "      <td>28.767169</td>\n",
       "      <td>161.966498</td>\n",
       "      <td>81.872549</td>\n",
       "      <td>99.835205</td>\n",
       "      <td>269.739988</td>\n",
       "      <td>203.647127</td>\n",
       "      <td>249.435960</td>\n",
       "      <td>117.578044</td>\n",
       "      <td>127.856154</td>\n",
       "      <td>111.061091</td>\n",
       "      <td>126.024153</td>\n",
       "      <td>177.980983</td>\n",
       "      <td>152.021918</td>\n",
       "      <td>319.135333</td>\n",
       "      <td>140.016792</td>\n",
       "      <td>112.977020</td>\n",
       "      <td>High</td>\n",
       "      <td>Category_A</td>\n",
       "    </tr>\n",
       "    <tr>\n",
       "      <th>1</th>\n",
       "      <td>218.938143</td>\n",
       "      <td>119.791942</td>\n",
       "      <td>167.343711</td>\n",
       "      <td>193.325205</td>\n",
       "      <td>-79.015534</td>\n",
       "      <td>53.199300</td>\n",
       "      <td>146.831591</td>\n",
       "      <td>122.634255</td>\n",
       "      <td>73.221506</td>\n",
       "      <td>79.423254</td>\n",
       "      <td>110.618714</td>\n",
       "      <td>-23.065378</td>\n",
       "      <td>133.769639</td>\n",
       "      <td>273.784216</td>\n",
       "      <td>60.854829</td>\n",
       "      <td>105.844625</td>\n",
       "      <td>Low</td>\n",
       "      <td>Category_A</td>\n",
       "    </tr>\n",
       "    <tr>\n",
       "      <th>2</th>\n",
       "      <td>73.635323</td>\n",
       "      <td>221.318585</td>\n",
       "      <td>99.913021</td>\n",
       "      <td>-22.305286</td>\n",
       "      <td>228.404987</td>\n",
       "      <td>111.664161</td>\n",
       "      <td>257.811522</td>\n",
       "      <td>59.378286</td>\n",
       "      <td>61.426489</td>\n",
       "      <td>86.798618</td>\n",
       "      <td>45.785137</td>\n",
       "      <td>78.697077</td>\n",
       "      <td>196.370792</td>\n",
       "      <td>-2.577077</td>\n",
       "      <td>-22.645914</td>\n",
       "      <td>93.708970</td>\n",
       "      <td>Low</td>\n",
       "      <td>Category_B</td>\n",
       "    </tr>\n",
       "    <tr>\n",
       "      <th>3</th>\n",
       "      <td>254.599403</td>\n",
       "      <td>9.245377</td>\n",
       "      <td>151.656239</td>\n",
       "      <td>93.377091</td>\n",
       "      <td>-31.668459</td>\n",
       "      <td>92.511416</td>\n",
       "      <td>198.598885</td>\n",
       "      <td>66.328654</td>\n",
       "      <td>232.164797</td>\n",
       "      <td>215.983485</td>\n",
       "      <td>192.334588</td>\n",
       "      <td>266.697438</td>\n",
       "      <td>147.023177</td>\n",
       "      <td>170.750747</td>\n",
       "      <td>105.240839</td>\n",
       "      <td>115.455498</td>\n",
       "      <td>Low</td>\n",
       "      <td>Category_A</td>\n",
       "    </tr>\n",
       "    <tr>\n",
       "      <th>4</th>\n",
       "      <td>290.040861</td>\n",
       "      <td>161.374547</td>\n",
       "      <td>70.177088</td>\n",
       "      <td>74.350879</td>\n",
       "      <td>230.188671</td>\n",
       "      <td>230.777534</td>\n",
       "      <td>251.258058</td>\n",
       "      <td>183.337692</td>\n",
       "      <td>240.107252</td>\n",
       "      <td>278.940438</td>\n",
       "      <td>183.484400</td>\n",
       "      <td>137.560854</td>\n",
       "      <td>169.524114</td>\n",
       "      <td>172.233807</td>\n",
       "      <td>0.996204</td>\n",
       "      <td>187.083308</td>\n",
       "      <td>High</td>\n",
       "      <td>Category_C</td>\n",
       "    </tr>\n",
       "    <tr>\n",
       "      <th>...</th>\n",
       "      <td>...</td>\n",
       "      <td>...</td>\n",
       "      <td>...</td>\n",
       "      <td>...</td>\n",
       "      <td>...</td>\n",
       "      <td>...</td>\n",
       "      <td>...</td>\n",
       "      <td>...</td>\n",
       "      <td>...</td>\n",
       "      <td>...</td>\n",
       "      <td>...</td>\n",
       "      <td>...</td>\n",
       "      <td>...</td>\n",
       "      <td>...</td>\n",
       "      <td>...</td>\n",
       "      <td>...</td>\n",
       "      <td>...</td>\n",
       "      <td>...</td>\n",
       "    </tr>\n",
       "    <tr>\n",
       "      <th>99995</th>\n",
       "      <td>5.137600</td>\n",
       "      <td>223.650110</td>\n",
       "      <td>262.706014</td>\n",
       "      <td>34.115822</td>\n",
       "      <td>56.149873</td>\n",
       "      <td>203.199104</td>\n",
       "      <td>23.526109</td>\n",
       "      <td>10.265990</td>\n",
       "      <td>125.915993</td>\n",
       "      <td>174.469443</td>\n",
       "      <td>206.620790</td>\n",
       "      <td>8.447183</td>\n",
       "      <td>8.799652</td>\n",
       "      <td>62.261204</td>\n",
       "      <td>199.040973</td>\n",
       "      <td>111.933168</td>\n",
       "      <td>Low</td>\n",
       "      <td>Category_A</td>\n",
       "    </tr>\n",
       "    <tr>\n",
       "      <th>99996</th>\n",
       "      <td>-24.785508</td>\n",
       "      <td>54.086621</td>\n",
       "      <td>253.093477</td>\n",
       "      <td>140.302047</td>\n",
       "      <td>66.938113</td>\n",
       "      <td>113.096096</td>\n",
       "      <td>79.655440</td>\n",
       "      <td>112.177999</td>\n",
       "      <td>35.849802</td>\n",
       "      <td>187.404075</td>\n",
       "      <td>-29.669458</td>\n",
       "      <td>-29.467787</td>\n",
       "      <td>151.939305</td>\n",
       "      <td>111.344186</td>\n",
       "      <td>-19.787619</td>\n",
       "      <td>98.208574</td>\n",
       "      <td>Low</td>\n",
       "      <td>Category_A</td>\n",
       "    </tr>\n",
       "    <tr>\n",
       "      <th>99997</th>\n",
       "      <td>95.691137</td>\n",
       "      <td>-60.539674</td>\n",
       "      <td>182.792261</td>\n",
       "      <td>124.955195</td>\n",
       "      <td>129.011832</td>\n",
       "      <td>73.903342</td>\n",
       "      <td>72.483219</td>\n",
       "      <td>72.410532</td>\n",
       "      <td>223.346991</td>\n",
       "      <td>118.818122</td>\n",
       "      <td>-40.974059</td>\n",
       "      <td>5.113943</td>\n",
       "      <td>63.857116</td>\n",
       "      <td>142.451584</td>\n",
       "      <td>230.030930</td>\n",
       "      <td>102.714185</td>\n",
       "      <td>High</td>\n",
       "      <td>Category_A</td>\n",
       "    </tr>\n",
       "    <tr>\n",
       "      <th>99998</th>\n",
       "      <td>-15.557983</td>\n",
       "      <td>212.114566</td>\n",
       "      <td>-33.215685</td>\n",
       "      <td>108.988587</td>\n",
       "      <td>211.905884</td>\n",
       "      <td>291.579619</td>\n",
       "      <td>353.093819</td>\n",
       "      <td>149.118057</td>\n",
       "      <td>-23.918542</td>\n",
       "      <td>19.985540</td>\n",
       "      <td>-129.389272</td>\n",
       "      <td>154.531081</td>\n",
       "      <td>175.965241</td>\n",
       "      <td>108.808665</td>\n",
       "      <td>272.826414</td>\n",
       "      <td>91.244749</td>\n",
       "      <td>Low</td>\n",
       "      <td>Category_A</td>\n",
       "    </tr>\n",
       "    <tr>\n",
       "      <th>99999</th>\n",
       "      <td>228.476620</td>\n",
       "      <td>121.324249</td>\n",
       "      <td>328.229965</td>\n",
       "      <td>257.140130</td>\n",
       "      <td>150.158028</td>\n",
       "      <td>163.996202</td>\n",
       "      <td>181.255538</td>\n",
       "      <td>242.381308</td>\n",
       "      <td>297.442216</td>\n",
       "      <td>271.180491</td>\n",
       "      <td>149.623438</td>\n",
       "      <td>351.293947</td>\n",
       "      <td>275.057575</td>\n",
       "      <td>251.957609</td>\n",
       "      <td>335.923949</td>\n",
       "      <td>218.138541</td>\n",
       "      <td>Low</td>\n",
       "      <td>Category_C</td>\n",
       "    </tr>\n",
       "  </tbody>\n",
       "</table>\n",
       "<p>100000 rows × 18 columns</p>\n",
       "</div>"
      ],
      "text/plain": [
       "        feature_1   feature_2   feature_3   feature_4   feature_5   feature_6  \\\n",
       "0       28.767169  161.966498   81.872549   99.835205  269.739988  203.647127   \n",
       "1      218.938143  119.791942  167.343711  193.325205  -79.015534   53.199300   \n",
       "2       73.635323  221.318585   99.913021  -22.305286  228.404987  111.664161   \n",
       "3      254.599403    9.245377  151.656239   93.377091  -31.668459   92.511416   \n",
       "4      290.040861  161.374547   70.177088   74.350879  230.188671  230.777534   \n",
       "...           ...         ...         ...         ...         ...         ...   \n",
       "99995    5.137600  223.650110  262.706014   34.115822   56.149873  203.199104   \n",
       "99996  -24.785508   54.086621  253.093477  140.302047   66.938113  113.096096   \n",
       "99997   95.691137  -60.539674  182.792261  124.955195  129.011832   73.903342   \n",
       "99998  -15.557983  212.114566  -33.215685  108.988587  211.905884  291.579619   \n",
       "99999  228.476620  121.324249  328.229965  257.140130  150.158028  163.996202   \n",
       "\n",
       "        feature_7   feature_8   feature_9  feature_10  feature_11  feature_12  \\\n",
       "0      249.435960  117.578044  127.856154  111.061091  126.024153  177.980983   \n",
       "1      146.831591  122.634255   73.221506   79.423254  110.618714  -23.065378   \n",
       "2      257.811522   59.378286   61.426489   86.798618   45.785137   78.697077   \n",
       "3      198.598885   66.328654  232.164797  215.983485  192.334588  266.697438   \n",
       "4      251.258058  183.337692  240.107252  278.940438  183.484400  137.560854   \n",
       "...           ...         ...         ...         ...         ...         ...   \n",
       "99995   23.526109   10.265990  125.915993  174.469443  206.620790    8.447183   \n",
       "99996   79.655440  112.177999   35.849802  187.404075  -29.669458  -29.467787   \n",
       "99997   72.483219   72.410532  223.346991  118.818122  -40.974059    5.113943   \n",
       "99998  353.093819  149.118057  -23.918542   19.985540 -129.389272  154.531081   \n",
       "99999  181.255538  242.381308  297.442216  271.180491  149.623438  351.293947   \n",
       "\n",
       "       feature_13  feature_14  feature_15      target cat_feature_1  \\\n",
       "0      152.021918  319.135333  140.016792  112.977020          High   \n",
       "1      133.769639  273.784216   60.854829  105.844625           Low   \n",
       "2      196.370792   -2.577077  -22.645914   93.708970           Low   \n",
       "3      147.023177  170.750747  105.240839  115.455498           Low   \n",
       "4      169.524114  172.233807    0.996204  187.083308          High   \n",
       "...           ...         ...         ...         ...           ...   \n",
       "99995    8.799652   62.261204  199.040973  111.933168           Low   \n",
       "99996  151.939305  111.344186  -19.787619   98.208574           Low   \n",
       "99997   63.857116  142.451584  230.030930  102.714185          High   \n",
       "99998  175.965241  108.808665  272.826414   91.244749           Low   \n",
       "99999  275.057575  251.957609  335.923949  218.138541           Low   \n",
       "\n",
       "      cat_feature_2  \n",
       "0        Category_A  \n",
       "1        Category_A  \n",
       "2        Category_B  \n",
       "3        Category_A  \n",
       "4        Category_C  \n",
       "...             ...  \n",
       "99995    Category_A  \n",
       "99996    Category_A  \n",
       "99997    Category_A  \n",
       "99998    Category_A  \n",
       "99999    Category_C  \n",
       "\n",
       "[100000 rows x 18 columns]"
      ]
     },
     "execution_count": 48,
     "metadata": {},
     "output_type": "execute_result"
    }
   ],
   "source": [
    "import pandas as pd\n",
    "import numpy as np\n",
    "import matplotlib.pyplot as plt\n",
    "\n",
    "case_study = pd.read_csv('./case_study_data.csv')\n",
    "case_study"
   ]
  },
  {
   "cell_type": "markdown",
   "id": "56afd4ef-ef90-41a8-966e-6e553dcef3bf",
   "metadata": {},
   "source": [
    "Find the feature with the highest correlation to the target variable\n"
   ]
  },
  {
   "cell_type": "code",
   "execution_count": 45,
   "id": "fd84abda-c7b8-4667-9a8d-8b92ca4a7e6c",
   "metadata": {},
   "outputs": [
    {
     "data": {
      "image/png": "[encoded data removed]",
      "text/plain": [
       "<Figure size 640x480 with 1 Axes>"
      ]
     },
     "metadata": {},
     "output_type": "display_data"
    },
    {
     "name": "stdout",
     "output_type": "stream",
     "text": [
      "Highest correlated feature to the target variable is feature_7\n"
     ]
    }
   ],
   "source": [
    "\n",
    "# setup X, y & feature column names\n",
    "col_names_to_drop = [\"target\", \"cat_feature_1\", \"cat_feature_2\"]\n",
    "X = case_study.drop(col_names_to_drop, axis=1).values\n",
    "y = case_study['target'].values\n",
    "ft_col_names = case_study.drop(col_names_to_drop, axis=1).columns\n",
    "\n",
    "\n",
    "# use Lasso regression as this will shrink coefficients of less important features\n",
    "from sklearn.linear_model import Lasso\n",
    "correlation_model = Lasso(alpha=0.1)\n",
    "coefficients = correlation_model.fit(X,y).coef_\n",
    "\n",
    "\n",
    "plt.bar(ft_col_names, coefficients)\n",
    "plt.xticks(rotation=45)\n",
    "plt.show()\n",
    "\n",
    "# find index of the highest correlated feature\n",
    "max_index = np.argmax(np.abs(coefficients))\n",
    "print('Highest correlated feature to the target variable is {}'.format(ft_col_names[max_index]))"
   ]
  },
  {
   "cell_type": "markdown",
   "id": "7e5a400a-9385-4bf4-8087-369735dbfc77",
   "metadata": {},
   "source": [
    "What is the category in cat_feature_2 with the highest mean for the target variable?"
   ]
  },
  {
   "cell_type": "code",
   "execution_count": 68,
   "id": "7c856ebb-4f0d-4826-b4d6-b4bc3213bcf8",
   "metadata": {},
   "outputs": [
    {
     "data": {
      "text/plain": [
       "'Category_C'"
      ]
     },
     "execution_count": 68,
     "metadata": {},
     "output_type": "execute_result"
    }
   ],
   "source": [
    "case_study.groupby('cat_feature_2')['target'].mean().idxmax()"
   ]
  },
  {
   "cell_type": "markdown",
   "id": "ff21483e-cf5e-4bfe-8eef-f96839426144",
   "metadata": {},
   "source": [
    "What is the absolute difference of the standard deviation of the target variable for the 2 categories in cat_feature_1?"
   ]
  },
  {
   "cell_type": "code",
   "execution_count": 78,
   "id": "0eed25fb-a6d7-4599-9d89-662e0e416713",
   "metadata": {},
   "outputs": [
    {
     "data": {
      "text/plain": [
       "np.float64(0.877185200149718)"
      ]
     },
     "execution_count": 78,
     "metadata": {},
     "output_type": "execute_result"
    }
   ],
   "source": [
    "high_std = case_study.groupby('cat_feature_1')['target'].std()['High']\n",
    "low_std = case_study.groupby('cat_feature_1')['target'].std()['Low']\n",
    "np.abs(high_std - low_std)"
   ]
  },
  {
   "cell_type": "code",
   "execution_count": null,
   "id": "c4b00db9-f7b8-46d6-b554-4d4ce244d75a",
   "metadata": {},
   "outputs": [],
   "source": [
    "What is the min value of feature_8 for the group category C in cat_feature_2?"
   ]
  },
  {
   "cell_type": "code",
   "execution_count": 82,
   "id": "e42cad9d-628f-46ee-8df1-197984630ce7",
   "metadata": {},
   "outputs": [
    {
     "data": {
      "text/plain": [
       "np.float64(-255.53508400442365)"
      ]
     },
     "execution_count": 82,
     "metadata": {},
     "output_type": "execute_result"
    }
   ],
   "source": [
    "case_study.groupby('cat_feature_2')['feature_8'].min()['Category_C']"
   ]
  },
  {
   "cell_type": "markdown",
   "id": "7e88339c-1d9e-42ef-a698-dabf76ac9d05",
   "metadata": {},
   "source": [
    "What is the variance of feature_12 for the group where cat_feature_2 is Category_A and cat_feature_1 is High?"
   ]
  },
  {
   "cell_type": "code",
   "execution_count": 106,
   "id": "f2b6913f-40a6-471a-9184-e03f5a01658e",
   "metadata": {},
   "outputs": [
    {
     "data": {
      "text/html": [
       "<div>\n",
       "<style scoped>\n",
       "    .dataframe tbody tr th:only-of-type {\n",
       "        vertical-align: middle;\n",
       "    }\n",
       "\n",
       "    .dataframe tbody tr th {\n",
       "        vertical-align: top;\n",
       "    }\n",
       "\n",
       "    .dataframe thead th {\n",
       "        text-align: right;\n",
       "    }\n",
       "</style>\n",
       "<table border=\"1\" class=\"dataframe\">\n",
       "  <thead>\n",
       "    <tr style=\"text-align: right;\">\n",
       "      <th></th>\n",
       "      <th></th>\n",
       "      <th>feature_12</th>\n",
       "    </tr>\n",
       "    <tr>\n",
       "      <th>cat_feature_1</th>\n",
       "      <th>cat_feature_2</th>\n",
       "      <th></th>\n",
       "    </tr>\n",
       "  </thead>\n",
       "  <tbody>\n",
       "    <tr>\n",
       "      <th rowspan=\"3\" valign=\"top\">High</th>\n",
       "      <th>Category_A</th>\n",
       "      <td>11267.178830</td>\n",
       "    </tr>\n",
       "    <tr>\n",
       "      <th>Category_B</th>\n",
       "      <td>11163.965640</td>\n",
       "    </tr>\n",
       "    <tr>\n",
       "      <th>Category_C</th>\n",
       "      <td>10275.529924</td>\n",
       "    </tr>\n",
       "    <tr>\n",
       "      <th rowspan=\"3\" valign=\"top\">Low</th>\n",
       "      <th>Category_A</th>\n",
       "      <td>10222.853001</td>\n",
       "    </tr>\n",
       "    <tr>\n",
       "      <th>Category_B</th>\n",
       "      <td>11098.937647</td>\n",
       "    </tr>\n",
       "    <tr>\n",
       "      <th>Category_C</th>\n",
       "      <td>11101.869845</td>\n",
       "    </tr>\n",
       "  </tbody>\n",
       "</table>\n",
       "</div>"
      ],
      "text/plain": [
       "                               feature_12\n",
       "cat_feature_1 cat_feature_2              \n",
       "High          Category_A     11267.178830\n",
       "              Category_B     11163.965640\n",
       "              Category_C     10275.529924\n",
       "Low           Category_A     10222.853001\n",
       "              Category_B     11098.937647\n",
       "              Category_C     11101.869845"
      ]
     },
     "execution_count": 106,
     "metadata": {},
     "output_type": "execute_result"
    }
   ],
   "source": [
    "var_df = case_study.groupby(['cat_feature_1', 'cat_feature_2'])[['feature_12']].var()\n",
    "var_df"
   ]
  },
  {
   "cell_type": "code",
   "execution_count": 136,
   "id": "0350e651-243a-48d5-986c-d2a9625c0059",
   "metadata": {},
   "outputs": [
    {
     "data": {
      "text/plain": [
       "np.float64(11267.178830175519)"
      ]
     },
     "execution_count": 136,
     "metadata": {},
     "output_type": "execute_result"
    }
   ],
   "source": [
    "var_df.loc[('High', 'Category_A'), 'feature_12']"
   ]
  },
  {
   "cell_type": "code",
   "execution_count": null,
   "id": "d5749cba-a625-4410-8f3b-35954f2d51f1",
   "metadata": {},
   "outputs": [],
   "source": []
  },
  {
   "cell_type": "markdown",
   "id": "a4fb3b6b-e096-445f-8ec6-ba8822a06d0c",
   "metadata": {},
   "source": [
    "### Build LinearRegression model"
   ]
  },
  {
   "cell_type": "code",
   "execution_count": 161,
   "id": "8fcfce36-d5b3-4d46-a3d2-7d8cf0ac23e7",
   "metadata": {},
   "outputs": [],
   "source": [
    "from sklearn.linear_model import LinearRegression\n",
    "from sklearn.model_selection import train_test_split\n",
    "from sklearn.metrics import root_mean_squared_error"
   ]
  },
  {
   "cell_type": "markdown",
   "id": "84a19e7c-8cb6-4923-9775-ffbecf19c7f8",
   "metadata": {},
   "source": [
    "### Calculate the predictions"
   ]
  },
  {
   "cell_type": "code",
   "execution_count": 251,
   "id": "b42f9e6e-5c5c-464b-84ec-29ec60650ee6",
   "metadata": {},
   "outputs": [
    {
     "data": {
      "text/plain": [
       "{'feature_1': array([121.96660293, 163.00966606, 131.65013363, ..., 136.41026163,\n",
       "        112.40026374, 165.06827849]),\n",
       " 'feature_2': array([154.43110958, 145.99692412, 166.3005056 , ..., 109.93370433,\n",
       "        164.45986018, 146.30335918]),\n",
       " 'feature_3': array([136.35008027, 154.17322866, 140.11202776, ..., 157.39468712,\n",
       "        112.35093692, 187.72255122]),\n",
       " 'feature_4': array([145.01602897, 162.87853921, 121.67946085, ..., 149.8155378 ,\n",
       "        146.76490469, 175.07123095]),\n",
       " 'feature_5': array([171.39789416,  91.69244981, 161.95109152, ..., 139.23553539,\n",
       "        158.18034578, 144.06833914]),\n",
       " 'feature_6': array([164.36730047, 135.44378269, 146.68362227, ..., 139.4241241 ,\n",
       "        181.27227698, 156.74443031]),\n",
       " 'feature_7': array([166.11637258, 142.50101973, 168.04408645, ..., 125.38904834,\n",
       "        189.97419624, 150.42401228]),\n",
       " 'feature_8': array([136.57365869, 137.73690186, 123.18409419, ..., 126.18232141,\n",
       "        143.82982375, 165.28617274]),\n",
       " 'feature_9': array([147.39042785, 136.35267624, 133.96974768, ..., 166.68229071,\n",
       "        116.72762603, 181.65163174]),\n",
       " 'feature_10': array([147.92187588, 142.08859437, 143.44843993, ..., 149.35209209,\n",
       "        131.1296617 , 177.44417069]),\n",
       " 'feature_11': array([149.85082943, 146.95566917, 134.77142811, ..., 118.46668264,\n",
       "        101.85072017, 154.28586732]),\n",
       " 'feature_12': array([158.47024106, 119.03281414, 138.9946248 , ..., 124.56049399,\n",
       "        153.87028819, 192.46746095]),\n",
       " 'feature_13': array([146.74495402, 142.70643739, 156.55762758, ..., 127.23752655,\n",
       "        152.04267615, 173.96793969]),\n",
       " 'feature_14': array([185.81553213, 176.53410725, 119.9748259 , ..., 149.65596097,\n",
       "        142.77070095, 172.06713871]),\n",
       " 'feature_15': array([143.99705619, 126.33119051, 107.69707828, ..., 164.08470439,\n",
       "        173.63498873, 187.71590009])}"
      ]
     },
     "execution_count": 251,
     "metadata": {},
     "output_type": "execute_result"
    }
   ],
   "source": [
    "x_features = case_study.drop(['target', 'cat_feature_1', 'cat_feature_2'], axis=1)\n",
    "y_features = case_study['target'].values\n",
    "lin_reg_model = LinearRegression()\n",
    "predictions = dict()\n",
    "\n",
    "for col in x_features.columns:\n",
    "    x = x_features.loc[:, col].values\n",
    "    lin_reg_model.fit(x.reshape(-1, 1), y)\n",
    "    predictions[col] = lin_reg_model.predict(x.reshape(-1,1))\n",
    "    \n",
    "predictions"
   ]
  },
  {
   "cell_type": "markdown",
   "id": "5670e704-6a8b-4dad-839c-0ed12b5c4fe3",
   "metadata": {},
   "source": [
    "### Calculate RMSE scores"
   ]
  },
  {
   "cell_type": "code",
   "execution_count": 254,
   "id": "22fc10e5-5e59-42c9-9517-8638efbd8e0b",
   "metadata": {},
   "outputs": [
    {
     "data": {
      "text/plain": [
       "{'feature_1': np.float64(45.35123579020603),\n",
       " 'feature_2': np.float64(46.606551156075035),\n",
       " 'feature_3': np.float64(45.98104237590867),\n",
       " 'feature_4': np.float64(47.220160729334644),\n",
       " 'feature_5': np.float64(44.21230125336757),\n",
       " 'feature_6': np.float64(47.14846313313946),\n",
       " 'feature_7': np.float64(43.93568385730026),\n",
       " 'feature_8': np.float64(44.04990424758108),\n",
       " 'feature_9': np.float64(46.47859816372113),\n",
       " 'feature_10': np.float64(47.554083507317856),\n",
       " 'feature_11': np.float64(47.347396668344125),\n",
       " 'feature_12': np.float64(46.86543779278036),\n",
       " 'feature_13': np.float64(44.86359525866034),\n",
       " 'feature_14': np.float64(46.29117435553695),\n",
       " 'feature_15': np.float64(44.69876508348701)}"
      ]
     },
     "execution_count": 254,
     "metadata": {},
     "output_type": "execute_result"
    }
   ],
   "source": [
    "rmse_scores = dict()\n",
    "\n",
    "for column in predictions:\n",
    "    rmse_scores[column] = root_mean_squared_error(y_features, predictions[column])\n",
    "\n",
    "rmse_scores"
   ]
  },
  {
   "cell_type": "markdown",
   "id": "1d03ecc0-8bc3-43ab-9580-a0171db84a39",
   "metadata": {},
   "source": [
    "### Visualize predictions on a scatter plot"
   ]
  },
  {
   "cell_type": "code",
   "execution_count": 256,
   "id": "7dccde25-8534-46e3-a7ac-4058457e0c13",
   "metadata": {},
   "outputs": [
    {
     "data": {
      "image/png": "[encoded data removed]",
      "text/plain": [
       "<Figure size 640x480 with 1 Axes>"
      ]
     },
     "metadata": {},
     "output_type": "display_data"
    }
   ],
   "source": [
    "# (count, ) = y_test.shape\n",
    "ft_7 = case_study.loc[:, 'feature_7'].values\n",
    "\n",
    "plt.scatter(ft_7, y_features, color=\"blue\")\n",
    "plt.plot(ft_7, predictions['feature_7'], color=\"red\")\n",
    "plt.xlabel(\"Feature 7\")\n",
    "plt.ylabel(\"Target\")\n",
    "plt.show()\n"
   ]
  }
 ],
 "metadata": {
  "kernelspec": {
   "display_name": "Python 3 (ipykernel)",
   "language": "python",
   "name": "python3"
  },
  "language_info": {
   "codemirror_mode": {
    "name": "ipython",
    "version": 3
   },
   "file_extension": ".py",
   "mimetype": "text/x-python",
   "name": "python",
   "nbconvert_exporter": "python",
   "pygments_lexer": "ipython3",
   "version": "3.12.1"
  }
 },
 "nbformat": 4,
 "nbformat_minor": 5
}
